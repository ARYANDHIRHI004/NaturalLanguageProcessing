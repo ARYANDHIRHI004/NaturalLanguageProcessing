{
 "cells": [
  {
   "cell_type": "code",
   "execution_count": null,
   "metadata": {
    "id": "Q5aVkEPkF8bZ"
   },
   "outputs": [],
   "source": [
    "# How to find unique words in our corpus\n",
    "# Vocab\n",
    "\n",
    "paragraph = \"\"\"I have three visions for India. In 3000 years of our history people from all over the world have come and invaded us, captured our lands, conquered our minds. From Alexander onwards the Greeks, the Turks, the Moguls, the Portuguese, the British, the French, the Dutch, all of them came and looted us, took over what was ours. Yet we have not done this to any other nation. We have not conquered anyone. We have not grabbed their land, their culture and their history and tried to enforce our way of life on them. Why? Because we respect the freedom of others. That is why my FIRST VISION is that of FREEDOM. I believe that India got its first vision of this in 1857, when we started the war of Independence. It is this freedom that we must protect and nurture and build on. If we are not free, no one will respect us.\n",
    "\n",
    "We have 10 percent growth rate in most areas. Our poverty levels are falling. Our achievements are being globally recognised today. Yet we lack the self-confidence to see ourselves as a developed nation, self-reliant and self-assured. Isn’t this incorrect? MY SECOND VISION for India is DEVELOPMENT. For fifty years we have been a developing nation. It is time we see ourselves as a developed nation. We are among top five nations in the world in terms of GDP.\n",
    "\n",
    "I have a THIRD VISION. India must stand up to the world. Because I believe that unless India stands up to the world, no one will respect us. Only strength respects strength. We must be strong not only as a military power but also as an economic power. Both must go hand-in-hand. My good fortune was to have worked with three great minds. Dr.Vikram Sarabhai, of the Dept. of Space, Professor Satish Dhawan, who succeeded him and Dr. Brahm Prakash, father of nuclear material. I was lucky to have worked with all three of them closely and consider this the great opportunity of my life.\n",
    "\n",
    "I was in Hyderabad giving this lecture, when a 14 year-old girl asked me for my autograph. I asked her what her goal in life is. She replied: I want to live in a developed India. For her, you and I will have to build this developed India. You must proclaim India is not an underdeveloped nation; it is a highly developed nation.\n",
    "\n",
    "\"\"\""
   ]
  },
  {
   "cell_type": "code",
   "execution_count": null,
   "metadata": {
    "colab": {
     "base_uri": "https://localhost:8080/"
    },
    "executionInfo": {
     "elapsed": 7185,
     "status": "ok",
     "timestamp": 1744866553030,
     "user": {
      "displayName": "Aryan Dhirhi",
      "userId": "07112493514269233811"
     },
     "user_tz": -330
    },
    "id": "76PYx2vwJj5k",
    "outputId": "d473ee99-1d75-4262-aa33-b818be05c775"
   },
   "outputs": [
    {
     "name": "stderr",
     "output_type": "stream",
     "text": [
      "[nltk_data] Downloading package punkt_tab to /root/nltk_data...\n",
      "[nltk_data]   Unzipping tokenizers/punkt_tab.zip.\n"
     ]
    },
    {
     "data": {
      "text/plain": [
       "True"
      ]
     },
     "execution_count": 2,
     "metadata": {},
     "output_type": "execute_result"
    }
   ],
   "source": [
    "import nltk\n",
    "nltk.download(\"punkt_tab\")"
   ]
  },
  {
   "cell_type": "code",
   "execution_count": null,
   "metadata": {
    "colab": {
     "base_uri": "https://localhost:8080/"
    },
    "executionInfo": {
     "elapsed": 442,
     "status": "ok",
     "timestamp": 1744867824852,
     "user": {
      "displayName": "Aryan Dhirhi",
      "userId": "07112493514269233811"
     },
     "user_tz": -330
    },
    "id": "AzJB6aPaJoT7",
    "outputId": "bf9cbaa1-e6c2-41f5-dfea-c2a72e85c4cf"
   },
   "outputs": [
    {
     "name": "stdout",
     "output_type": "stream",
     "text": [
      "['10', '14', '1857,', '3000', 'Alexander', 'Because', 'Both', 'Brahm', 'British,', 'DEVELOPMENT.', 'Dept.', 'Dhawan,', 'Dr.', 'Dr.Vikram', 'Dutch,', 'FIRST', 'FREEDOM.', 'For', 'French,', 'From', 'GDP.', 'Greeks,', 'Hyderabad', 'I', 'If', 'In', 'Independence.', 'India', 'India.', 'Isn’t', 'It', 'MY', 'Moguls,', 'My', 'Only', 'Our', 'Portuguese,', 'Prakash,', 'Professor', 'SECOND', 'Sarabhai,', 'Satish', 'She', 'Space,', 'THIRD', 'That', 'Turks,', 'VISION', 'VISION.', 'We', 'Why?', 'Yet', 'You', 'a', 'achievements', 'all', 'also', 'among', 'an', 'and', 'any', 'anyone.', 'are', 'areas.', 'as', 'asked', 'autograph.', 'be', 'been', 'being', 'believe', 'build', 'but', 'came', 'captured', 'closely', 'come', 'conquered', 'consider', 'culture', 'developed', 'developing', 'done', 'economic', 'enforce', 'falling.', 'father', 'fifty', 'first', 'five', 'for', 'fortune', 'free,', 'freedom', 'from', 'girl', 'giving', 'globally', 'go', 'goal', 'good', 'got', 'grabbed', 'great', 'growth', 'hand-in-hand.', 'have', 'her', 'her,', 'highly', 'him', 'history', 'in', 'incorrect?', 'invaded', 'is', 'is.', 'it', 'its', 'lack', 'land,', 'lands,', 'lecture,', 'levels', 'life', 'life.', 'live', 'looted', 'lucky', 'material.', 'me', 'military', 'minds.', 'most', 'must', 'my', 'nation,', 'nation.', 'nation;', 'nations', 'no', 'not', 'nuclear', 'nurture', 'of', 'on', 'on.', 'one', 'only', 'onwards', 'opportunity', 'other', 'others.', 'our', 'ours.', 'ourselves', 'over', 'people', 'percent', 'poverty', 'power', 'power.', 'proclaim', 'protect', 'rate', 'recognised', 'replied:', 'respect', 'respects', 'see', 'self-assured.', 'self-confidence', 'self-reliant', 'stand', 'stands', 'started', 'strength', 'strength.', 'strong', 'succeeded', 'terms', 'that', 'the', 'their', 'them', 'them.', 'this', 'three', 'time', 'to', 'today.', 'took', 'top', 'tried', 'underdeveloped', 'unless', 'up', 'us,', 'us.', 'vision', 'visions', 'want', 'war', 'was', 'way', 'we', 'what', 'when', 'who', 'why', 'will', 'with', 'worked', 'world', 'world,', 'world.', 'year-old', 'years', 'you']\n",
      "There are 219 words in vocabulary\n"
     ]
    }
   ],
   "source": [
    "from nltk.tokenize import sent_tokenize\n",
    "corpus = sent_tokenize(paragraph)\n",
    "\n",
    "vocab = []\n",
    "total_words = 0\n",
    "\n",
    "for sentence in corpus:\n",
    "  token_temp = sentence.split()\n",
    "  total_words = total_words + len(token_temp)\n",
    "  for i in range(len(token_temp)):\n",
    "    if token_temp[i] not in vocab:\n",
    "      vocab.append(token_temp[i])\n",
    "\n",
    "vocab.sort()\n",
    "print(vocab)\n",
    "print(f\"There are {len(vocab)} words in vocabulary\")"
   ]
  },
  {
   "cell_type": "code",
   "execution_count": null,
   "metadata": {
    "id": "DIb00awxKA6i"
   },
   "outputs": [],
   "source": []
  }
 ],
 "metadata": {
  "accelerator": "GPU",
  "colab": {
   "authorship_tag": "ABX9TyMtOZKieFB0mFknPj0xsLmC",
   "gpuType": "T4",
   "provenance": []
  },
  "kernelspec": {
   "display_name": "base",
   "language": "python",
   "name": "python3"
  },
  "language_info": {
   "name": "python",
   "version": "3.12.4"
  }
 },
 "nbformat": 4,
 "nbformat_minor": 0
}
